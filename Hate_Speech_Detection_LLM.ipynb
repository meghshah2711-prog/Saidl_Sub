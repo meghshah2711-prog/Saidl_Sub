{
  "cells": [
    {
      "cell_type": "code",
      "execution_count": null,
      "metadata": {
        "id": "sfHTGxXG38pk"
      },
      "outputs": [],
      "source": [
        "  %%capture\n",
        "!pip install googletrans==3.1.0a0\n",
        "!pip install transformers\n"
      ]
    },
    {
      "cell_type": "code",
      "execution_count": null,
      "metadata": {
        "colab": {
          "base_uri": "https://localhost:8080/"
        },
        "id": "TCt3G7iumwmD",
        "outputId": "619efc2d-577f-4c62-f091-fdc9ce510b2e"
      },
      "outputs": [
        {
          "output_type": "stream",
          "name": "stdout",
          "text": [
            "Mounted at /content/drive\n"
          ]
        }
      ],
      "source": [
        "from google.colab import drive\n",
        "drive.mount('/content/drive')\n",
        "# https://github.com/Kalit31/HASOC-2021/blob/main/English/BERT%20based/finetuned-bert.ipynb\n",
        "# https://github.com/Kalit31/HASOC-2021"
      ]
    },
    {
      "cell_type": "code",
      "execution_count": null,
      "metadata": {
        "id": "8r14wYoXpPL5"
      },
      "outputs": [],
      "source": [
        "#import libraries\n",
        "import pandas as pd\n",
        "import numpy as np\n",
        "import googletrans\n",
        "from googletrans import Translator\n",
        "\n",
        "from sklearn.model_selection import train_test_split\n",
        "from sklearn.metrics import confusion_matrix, f1_score, classification_report,accuracy_score\n",
        "\n",
        "import matplotlib.pyplot as plt\n",
        "\n",
        "import torch\n",
        "import torch.nn as nn\n",
        "import torch.nn.functional as F\n",
        "from torch.utils.data import Dataset, TensorDataset\n",
        "from torch.utils.data import DataLoader,RandomSampler,SequentialSampler\n",
        "\n",
        "from transformers import BertTokenizer, BertForSequenceClassification\n",
        "from transformers import AdamW\n",
        "from transformers import get_linear_schedule_with_warmup\n",
        "\n"
      ]
    },
    {
      "cell_type": "markdown",
      "metadata": {
        "id": "g6w1wEJopQw9"
      },
      "source": [
        "Load Data"
      ]
    },
    {
      "cell_type": "code",
      "execution_count": null,
      "metadata": {
        "colab": {
          "base_uri": "https://localhost:8080/"
        },
        "id": "9yeKPrtRpP9c",
        "outputId": "44ea9dc6-adf3-48ae-e209-68f5f605e94a"
      },
      "outputs": [
        {
          "output_type": "stream",
          "name": "stdout",
          "text": [
            "3843\n",
            "3843\n"
          ]
        }
      ],
      "source": [
        "from pandas.core.api import unique\n",
        "from six import unichr\n",
        "filePath = '/content/drive/MyDrive/english_2021.csv'\n",
        "\n",
        "import os\n",
        "df = pd.read_csv(filePath,delimiter=',')\n",
        "df = df.drop('task_2',axis=1)\n",
        "df.columns = ['TwitterID','HASOCID','Text','Type']\n",
        "df = df.drop(['TwitterID','HASOCID'],axis=1)\n",
        "\n",
        "X = list(df['Text'].values)\n",
        "Y_str = list(df['Type'].values)\n",
        "\n",
        "d = dict([(y,x+1) for x,y in enumerate(sorted(set(Y_str)))])\n",
        "# map Y to 0, 1 labels\n",
        "Y=[d[x] - 1 for x in Y_str]\n",
        "print(len(X))\n",
        "print(len(Y))"
      ]
    },
    {
      "cell_type": "code",
      "execution_count": null,
      "metadata": {
        "id": "yt0MVpDdpsqZ"
      },
      "outputs": [],
      "source": [
        "from googletrans.models import Translated\n",
        "# https://colab.sandbox.google.com/drive/1PBC5TzaBsB9qq-12EWlxxR1TVlUQOllf?usp=sharing%E3%80%82#scrollTo=qa8p0H8O-Dzh\n",
        "# show languages\n",
        "#print(googletrans.LANGUAGES)\n",
        "import random\n",
        "# Create translation model\n",
        "translator = Translator()\n",
        "CMI = 0.00\n",
        "#countOfWords = len(\"Geeksforgeeks is best Computer Science Portal\")\n",
        "translated_training_sentences = []\n",
        "count = 0\n",
        "for elem in X:\n",
        "  elem_list = elem.split()\n",
        "  countOfWords = len(elem_list)\n",
        "  cmicount=round(0.00*countOfWords)\n",
        "  indices = random.sample(range(countOfWords), cmicount)\n",
        "  for i in indices: # we made an assumption here for simplicity\n",
        "    translated_word = translator.translate(elem_list[i], src='en', dest='hi')\n",
        "    if translated_word.pronunciation is not None:\n",
        "      elem_list[i] = translated_word.pronunciation\n",
        "  translated_sentence = ' '.join(elem_list)\n",
        "  translated_training_sentences.append(translated_sentence)\n",
        "  count += 1\n",
        "  assert count == len(translated_training_sentences)\n",
        "\n",
        "dfo = pd.DataFrame(translated_training_sentences, columns=['translate'])\n",
        "file_name = '/content/drive/MyDrive/english_2021_translated_0p00.csv'\n",
        "dfo.to_csv(file_name, sep=',')\n"
      ]
    },
    {
      "cell_type": "markdown",
      "metadata": {
        "id": "a-tD9a5BESRQ"
      },
      "source": [
        "Data Loading"
      ]
    },
    {
      "cell_type": "code",
      "execution_count": null,
      "metadata": {
        "id": "XqaSed-z34Ux",
        "colab": {
          "base_uri": "https://localhost:8080/"
        },
        "outputId": "bdbb90f6-4c23-4b21-c427-34fb844f4f65"
      },
      "outputs": [
        {
          "output_type": "stream",
          "name": "stdout",
          "text": [
            "Number of training sentences: 3,843\n",
            "\n",
            "3074\n",
            "384\n",
            "385\n"
          ]
        }
      ],
      "source": [
        "## Load the dataset into a pandas dataframe.\n",
        "#df = pd.read_csv('√data/english/english_2021_translated_0p25.csv')\n",
        "df = pd.read_csv('/content/drive/MyDrive/english_2021_translated_1p00.csv')\n",
        "#df = pd.read_csv('/content/drive/MyDrive/english_2021.csv')\n",
        "X = list(df['translate'].values)\n",
        "# Report the number of sentences.\n",
        "print('Number of training sentences: {:,}\\n'.format(len(X)))\n",
        "\n",
        "# Train ~ 80%\n",
        "# Validation ~ 10%\n",
        "# Test = 10%\n",
        "\n",
        "X_tmp, X_test, y_tmp, y_test = train_test_split(X, Y, test_size = 0.10, random_state=42,stratify=Y)\n",
        "X_train, X_valid, y_train, y_valid = train_test_split(X_tmp, y_tmp, test_size = 0.111, random_state=42,stratify=y_tmp)\n",
        "\n",
        "print(len(X_train))\n",
        "print(len(X_valid))\n",
        "print(len(X_test))\n"
      ]
    },
    {
      "cell_type": "code",
      "execution_count": null,
      "metadata": {
        "colab": {
          "base_uri": "https://localhost:8080/"
        },
        "id": "sWaheVfNERea",
        "outputId": "8201e336-1148-4ee8-e5a6-0610c6a4f2d5"
      },
      "outputs": [
        {
          "output_type": "stream",
          "name": "stdout",
          "text": [
            "Requirement already satisfied: sacremoses in /usr/local/lib/python3.10/dist-packages (0.0.53)\n",
            "Requirement already satisfied: regex in /usr/local/lib/python3.10/dist-packages (from sacremoses) (2022.10.31)\n",
            "Requirement already satisfied: six in /usr/local/lib/python3.10/dist-packages (from sacremoses) (1.16.0)\n",
            "Requirement already satisfied: click in /usr/local/lib/python3.10/dist-packages (from sacremoses) (8.1.4)\n",
            "Requirement already satisfied: joblib in /usr/local/lib/python3.10/dist-packages (from sacremoses) (1.3.1)\n",
            "Requirement already satisfied: tqdm in /usr/local/lib/python3.10/dist-packages (from sacremoses) (4.65.0)\n"
          ]
        },
        {
          "output_type": "stream",
          "name": "stderr",
          "text": [
            "Some weights of XLMWithLMHeadModel were not initialized from the model checkpoint at xlm-mlm-100-1280 and are newly initialized: ['transformer.position_ids']\n",
            "You should probably TRAIN this model on a down-stream task to be able to use it for predictions and inference.\n",
            "<ipython-input-13-b7c1d0ff789e>:20: UserWarning: To copy construct from a tensor, it is recommended to use sourceTensor.clone().detach() or sourceTensor.clone().detach().requires_grad_(True), rather than torch.tensor(sourceTensor).\n",
            "  input_ids = torch.tensor(input_ids)\n",
            "<ipython-input-13-b7c1d0ff789e>:21: UserWarning: To copy construct from a tensor, it is recommended to use sourceTensor.clone().detach() or sourceTensor.clone().detach().requires_grad_(True), rather than torch.tensor(sourceTensor).\n",
            "  attention_mask = torch.tensor(attention_mask)\n"
          ]
        },
        {
          "output_type": "stream",
          "name": "stdout",
          "text": [
            " Original:  @rosanalait @omminch yah avashy hona the pita, beta aur moot gadha ka sabhee teeke.\n",
            "Tokenized:  ['@</w>', 'ro', 'san', 'al', 'ait</w>', '@</w>', 'om', 'min', 'ch</w>', 'yah</w>', 'av', 'ash', 'y</w>', 'h', 'ona</w>', 'the</w>', 'pita</w>', ',</w>', 'beta</w>', 'aur</w>', 'mo', 'ot</w>', 'gad', 'ha</w>', 'ka</w>', 'sab', 'hee</w>', 'te', 'eke</w>', '.</w>']\n",
            "Token IDs:  [41428, 291, 2203, 226, 2376, 41428, 435, 1049, 472, 28300, 473, 4230, 38, 308, 1316, 17, 78128, 14, 39453, 23821, 973, 1129, 16743, 218, 156, 3906, 68121, 669, 11297, 15]\n"
          ]
        }
      ],
      "source": [
        "import torch\n",
        "from transformers import XLMTokenizer, XLMWithLMHeadModel\n",
        "\n",
        "! pip install sacremoses\n",
        "\n",
        "def generate_dataset(X,y, tokenizer):\n",
        "\n",
        "  #Generate encodings\n",
        "  encodings = tokenizer.batch_encode_plus(X,\n",
        "                                          truncation = True,\n",
        "                                          padding=True,\n",
        "                                          max_length=128,\n",
        "                                          return_tensors='pt',\n",
        "                                          add_special_tokens = True)\n",
        "\n",
        "  #convert to tensor dataset\n",
        "  input_ids = encodings['input_ids']\n",
        "  attention_mask = encodings['attention_mask']\n",
        "\n",
        "  input_ids = torch.tensor(input_ids)\n",
        "  attention_mask = torch.tensor(attention_mask)\n",
        "  y = torch.tensor(y)\n",
        "  dataset = TensorDataset(input_ids,attention_mask,y)\n",
        "\n",
        "  return dataset\n",
        "\n",
        "\n",
        "model_name = 'xlm-mlm-100-1280'\n",
        "#model_name = 'bert-base-uncased'\n",
        "#model_name = 'bert-base-multilingual-cased' #  12-layer, 768-hidden, 12-heads, 110M parameters\n",
        "\n",
        " #mbert:\n",
        " #bert-base-multilingual-uncased: (Orig, not recommended) 102 languages, 12-layer, 768-hidden, 12-heads, 110M parameters #use this\n",
        "#bert-base-multilingual-cased: (New, recommended) 104 languages, 12-layer, 768-hidden, 12-heads, 110M parameters\n",
        "\n",
        "tokenizer = XLMTokenizer.from_pretrained(model_name)\n",
        "model = XLMWithLMHeadModel.from_pretrained(model_name)\n",
        "#tokenizer = BertTokenizer.from_pretrained(model_name, do_lower_case=True)\n",
        "train_dataset = generate_dataset(X_train,y_train,tokenizer)\n",
        "valid_dataset = generate_dataset(X_valid,y_valid,tokenizer)\n",
        "\n",
        "\n",
        "# Print the original sentence.\n",
        "print(' Original: ', X_train[0])\n",
        "\n",
        "# Print the tweet split into tokens.\n",
        "print('Tokenized: ', tokenizer.tokenize(X_train[0]))\n",
        "\n",
        "# Print the tweet mapped to token ids.\n",
        "print('Token IDs: ', tokenizer.convert_tokens_to_ids(tokenizer.tokenize(X_train[0])))\n"
      ]
    },
    {
      "cell_type": "code",
      "execution_count": null,
      "metadata": {
        "id": "CfxOVhs3E1vB"
      },
      "outputs": [],
      "source": [
        "def get_data_loader(dataset,sampler):\n",
        "  return DataLoader(dataset=dataset,sampler=sampler(dataset),batch_size=32)\n",
        "\n",
        "# random sampler for data\n",
        "train_loader = get_data_loader(train_dataset,RandomSampler)\n",
        "validation_loader = get_data_loader(valid_dataset,SequentialSampler)"
      ]
    },
    {
      "cell_type": "markdown",
      "metadata": {
        "id": "3TW6BnszFhB2"
      },
      "source": [
        "Model Training"
      ]
    },
    {
      "cell_type": "code",
      "execution_count": null,
      "metadata": {
        "colab": {
          "base_uri": "https://localhost:8080/"
        },
        "id": "4V7pDMfkE8Au",
        "outputId": "af765838-7a86-4362-e2ac-49f70e00f396"
      },
      "outputs": [
        {
          "output_type": "stream",
          "name": "stderr",
          "text": [
            "You are using a model of type xlm to instantiate a model of type bert. This is not supported for all configurations of models and can yield errors.\n"
          ]
        },
        {
          "output_type": "stream",
          "name": "stdout",
          "text": [
            "True\n"
          ]
        },
        {
          "output_type": "stream",
          "name": "stderr",
          "text": [
            "Some weights of the model checkpoint at xlm-mlm-100-1280 were not used when initializing BertForSequenceClassification: ['transformer.layer_norm1.3.bias', 'transformer.attentions.13.v_lin.weight', 'transformer.ffns.8.lin2.weight', 'transformer.ffns.13.lin2.bias', 'transformer.ffns.12.lin2.weight', 'transformer.attentions.7.v_lin.bias', 'transformer.layer_norm2.12.bias', 'transformer.ffns.15.lin1.weight', 'transformer.attentions.0.k_lin.weight', 'transformer.attentions.6.out_lin.weight', 'transformer.attentions.6.q_lin.weight', 'transformer.layer_norm1.10.bias', 'transformer.layer_norm1.1.bias', 'transformer.attentions.14.k_lin.bias', 'transformer.attentions.9.q_lin.bias', 'transformer.ffns.13.lin2.weight', 'transformer.ffns.12.lin1.weight', 'transformer.attentions.14.q_lin.bias', 'transformer.attentions.6.v_lin.bias', 'transformer.ffns.9.lin2.bias', 'transformer.attentions.6.v_lin.weight', 'transformer.ffns.6.lin2.bias', 'transformer.attentions.13.v_lin.bias', 'transformer.attentions.15.k_lin.weight', 'transformer.layer_norm1.3.weight', 'transformer.attentions.0.k_lin.bias', 'transformer.layer_norm2.11.bias', 'transformer.layer_norm1.12.weight', 'transformer.ffns.4.lin1.bias', 'transformer.ffns.4.lin2.bias', 'transformer.layer_norm1.15.bias', 'transformer.ffns.11.lin2.weight', 'transformer.layer_norm1.14.weight', 'transformer.attentions.12.out_lin.bias', 'transformer.ffns.11.lin2.bias', 'transformer.layer_norm1.5.bias', 'transformer.ffns.2.lin2.weight', 'transformer.attentions.0.out_lin.weight', 'transformer.attentions.1.q_lin.weight', 'transformer.attentions.3.v_lin.weight', 'transformer.ffns.4.lin1.weight', 'transformer.ffns.0.lin1.weight', 'transformer.attentions.12.out_lin.weight', 'transformer.attentions.9.k_lin.weight', 'transformer.attentions.9.v_lin.weight', 'transformer.attentions.15.v_lin.weight', 'transformer.ffns.3.lin2.weight', 'transformer.layer_norm2.13.weight', 'transformer.attentions.10.k_lin.weight', 'transformer.ffns.9.lin1.bias', 'transformer.attentions.11.v_lin.bias', 'transformer.attentions.11.out_lin.weight', 'transformer.attentions.8.k_lin.bias', 'transformer.ffns.15.lin2.bias', 'transformer.layer_norm2.12.weight', 'transformer.attentions.4.v_lin.weight', 'transformer.layer_norm1.13.weight', 'transformer.layer_norm2.2.weight', 'transformer.layer_norm2.8.weight', 'transformer.layer_norm2.10.weight', 'transformer.layer_norm2.0.bias', 'transformer.attentions.14.out_lin.bias', 'transformer.attentions.5.k_lin.bias', 'transformer.attentions.7.k_lin.bias', 'transformer.attentions.1.v_lin.bias', 'transformer.attentions.14.v_lin.bias', 'transformer.attentions.12.k_lin.bias', 'transformer.layer_norm1.8.weight', 'transformer.ffns.3.lin1.weight', 'transformer.attentions.10.q_lin.bias', 'transformer.embeddings.weight', 'transformer.ffns.3.lin2.bias', 'transformer.ffns.15.lin2.weight', 'transformer.layer_norm2.5.bias', 'transformer.ffns.15.lin1.bias', 'transformer.ffns.10.lin2.bias', 'transformer.layer_norm2.14.weight', 'transformer.attentions.8.k_lin.weight', 'transformer.attentions.3.q_lin.bias', 'transformer.attentions.7.out_lin.weight', 'transformer.attentions.13.k_lin.weight', 'transformer.layer_norm1.11.weight', 'transformer.attentions.13.out_lin.bias', 'transformer.layer_norm2.10.bias', 'transformer.attentions.1.out_lin.weight', 'transformer.ffns.2.lin1.weight', 'transformer.attentions.2.q_lin.bias', 'transformer.attentions.5.v_lin.bias', 'transformer.layer_norm2.15.bias', 'transformer.layer_norm2.7.weight', 'transformer.attentions.7.k_lin.weight', 'transformer.ffns.11.lin1.bias', 'transformer.ffns.0.lin2.weight', 'transformer.ffns.1.lin1.bias', 'transformer.layer_norm1.8.bias', 'transformer.layer_norm1.7.bias', 'transformer.ffns.5.lin2.bias', 'transformer.attentions.6.k_lin.bias', 'transformer.attentions.7.out_lin.bias', 'transformer.attentions.2.q_lin.weight', 'transformer.attentions.1.v_lin.weight', 'transformer.attentions.3.out_lin.weight', 'transformer.ffns.13.lin1.bias', 'transformer.layer_norm2.11.weight', 'transformer.attentions.2.v_lin.bias', 'transformer.ffns.1.lin1.weight', 'transformer.attentions.15.q_lin.bias', 'transformer.attentions.11.k_lin.weight', 'transformer.layer_norm2.15.weight', 'transformer.attentions.10.out_lin.bias', 'transformer.layer_norm1.11.bias', 'transformer.ffns.3.lin1.bias', 'transformer.layer_norm1.4.bias', 'transformer.layer_norm1.15.weight', 'transformer.layer_norm2.3.weight', 'transformer.attentions.13.q_lin.bias', 'transformer.attentions.2.v_lin.weight', 'transformer.ffns.1.lin2.weight', 'transformer.attentions.15.out_lin.weight', 'transformer.layer_norm1.12.bias', 'transformer.attentions.10.k_lin.bias', 'transformer.ffns.6.lin1.weight', 'transformer.layer_norm1.7.weight', 'transformer.attentions.11.q_lin.bias', 'transformer.attentions.12.q_lin.weight', 'transformer.attentions.5.q_lin.bias', 'transformer.attentions.9.v_lin.bias', 'transformer.attentions.10.out_lin.weight', 'transformer.attentions.11.v_lin.weight', 'transformer.layer_norm1.4.weight', 'transformer.layer_norm1.6.weight', 'transformer.attentions.0.v_lin.weight', 'transformer.ffns.10.lin2.weight', 'transformer.ffns.14.lin1.bias', 'transformer.layer_norm_emb.weight', 'transformer.attentions.13.k_lin.bias', 'transformer.attentions.14.out_lin.weight', 'transformer.attentions.4.out_lin.weight', 'transformer.layer_norm1.6.bias', 'transformer.ffns.13.lin1.weight', 'transformer.ffns.0.lin2.bias', 'transformer.ffns.9.lin2.weight', 'transformer.attentions.8.out_lin.weight', 'transformer.attentions.14.v_lin.weight', 'transformer.attentions.5.q_lin.weight', 'transformer.ffns.14.lin1.weight', 'transformer.ffns.7.lin2.bias', 'transformer.attentions.11.q_lin.weight', 'transformer.attentions.1.k_lin.weight', 'transformer.attentions.5.out_lin.weight', 'transformer.layer_norm1.2.weight', 'transformer.ffns.14.lin2.bias', 'transformer.ffns.8.lin2.bias', 'transformer.ffns.12.lin2.bias', 'transformer.ffns.9.lin1.weight', 'transformer.ffns.5.lin1.bias', 'transformer.attentions.1.k_lin.bias', 'transformer.attentions.7.q_lin.bias', 'transformer.layer_norm1.2.bias', 'transformer.ffns.8.lin1.weight', 'transformer.attentions.4.k_lin.weight', 'transformer.layer_norm2.4.bias', 'transformer.attentions.3.k_lin.bias', 'transformer.ffns.2.lin2.bias', 'transformer.attentions.5.k_lin.weight', 'transformer.ffns.4.lin2.weight', 'transformer.ffns.2.lin1.bias', 'transformer.attentions.8.q_lin.bias', 'pred_layer.proj.weight', 'transformer.attentions.15.v_lin.bias', 'transformer.ffns.10.lin1.bias', 'transformer.layer_norm1.0.bias', 'transformer.layer_norm1.9.bias', 'transformer.layer_norm1.14.bias', 'transformer.layer_norm2.2.bias', 'transformer.attentions.10.v_lin.weight', 'transformer.ffns.10.lin1.weight', 'transformer.layer_norm1.9.weight', 'transformer.ffns.0.lin1.bias', 'transformer.layer_norm2.4.weight', 'transformer.attentions.3.k_lin.weight', 'transformer.ffns.5.lin1.weight', 'transformer.attentions.8.v_lin.bias', 'transformer.layer_norm2.6.bias', 'transformer.layer_norm2.8.bias', 'transformer.attentions.9.out_lin.weight', 'transformer.ffns.6.lin2.weight', 'transformer.attentions.4.out_lin.bias', 'transformer.layer_norm2.9.weight', 'transformer.attentions.0.q_lin.bias', 'transformer.attentions.4.v_lin.bias', 'transformer.attentions.7.v_lin.weight', 'transformer.ffns.7.lin1.bias', 'transformer.layer_norm2.5.weight', 'transformer.attentions.13.q_lin.weight', 'transformer.attentions.8.out_lin.bias', 'transformer.ffns.14.lin2.weight', 'transformer.attentions.8.v_lin.weight', 'transformer.attentions.5.out_lin.bias', 'transformer.attentions.8.q_lin.weight', 'transformer.layer_norm2.0.weight', 'transformer.ffns.5.lin2.weight', 'transformer.layer_norm2.7.bias', 'transformer.attentions.12.k_lin.weight', 'transformer.attentions.0.v_lin.bias', 'transformer.ffns.8.lin1.bias', 'transformer.layer_norm2.9.bias', 'transformer.attentions.6.k_lin.weight', 'transformer.ffns.11.lin1.weight', 'transformer.position_embeddings.weight', 'transformer.attentions.13.out_lin.weight', 'transformer.layer_norm1.5.weight', 'transformer.attentions.6.q_lin.bias', 'transformer.attentions.12.v_lin.weight', 'transformer.layer_norm2.1.weight', 'transformer.layer_norm2.13.bias', 'transformer.attentions.4.q_lin.bias', 'transformer.attentions.5.v_lin.weight', 'transformer.ffns.7.lin1.weight', 'transformer.attentions.10.q_lin.weight', 'transformer.attentions.9.k_lin.bias', 'transformer.ffns.1.lin2.bias', 'transformer.attentions.3.q_lin.weight', 'transformer.layer_norm2.3.bias', 'transformer.attentions.15.out_lin.bias', 'transformer.layer_norm2.1.bias', 'transformer.attentions.10.v_lin.bias', 'transformer.layer_norm1.13.bias', 'transformer.attentions.2.out_lin.weight', 'transformer.attentions.6.out_lin.bias', 'transformer.attentions.9.q_lin.weight', 'pred_layer.proj.bias', 'transformer.layer_norm2.14.bias', 'transformer.attentions.9.out_lin.bias', 'transformer.attentions.0.q_lin.weight', 'transformer.layer_norm_emb.bias', 'transformer.attentions.0.out_lin.bias', 'transformer.layer_norm1.1.weight', 'transformer.layer_norm1.0.weight', 'transformer.attentions.2.k_lin.weight', 'transformer.attentions.12.q_lin.bias', 'transformer.attentions.7.q_lin.weight', 'transformer.attentions.11.k_lin.bias', 'transformer.ffns.7.lin2.weight', 'transformer.attentions.4.q_lin.weight', 'transformer.attentions.2.out_lin.bias', 'transformer.attentions.3.v_lin.bias', 'transformer.ffns.12.lin1.bias', 'transformer.attentions.12.v_lin.bias', 'transformer.attentions.1.out_lin.bias', 'transformer.attentions.15.k_lin.bias', 'transformer.attentions.1.q_lin.bias', 'transformer.attentions.11.out_lin.bias', 'transformer.attentions.4.k_lin.bias', 'transformer.attentions.14.k_lin.weight', 'transformer.attentions.15.q_lin.weight', 'transformer.attentions.2.k_lin.bias', 'transformer.ffns.6.lin1.bias', 'transformer.layer_norm2.6.weight', 'transformer.attentions.14.q_lin.weight', 'transformer.layer_norm1.10.weight', 'transformer.attentions.3.out_lin.bias']\n",
            "- This IS expected if you are initializing BertForSequenceClassification from the checkpoint of a model trained on another task or with another architecture (e.g. initializing a BertForSequenceClassification model from a BertForPreTraining model).\n",
            "- This IS NOT expected if you are initializing BertForSequenceClassification from the checkpoint of a model that you expect to be exactly identical (initializing a BertForSequenceClassification model from a BertForSequenceClassification model).\n",
            "Some weights of BertForSequenceClassification were not initialized from the model checkpoint at xlm-mlm-100-1280 and are newly initialized: ['encoder.layer.7.attention.output.LayerNorm.weight', 'encoder.layer.1.intermediate.dense.weight', 'encoder.layer.2.attention.self.value.weight', 'encoder.layer.11.intermediate.dense.bias', 'encoder.layer.4.attention.output.dense.bias', 'encoder.layer.0.attention.self.value.weight', 'encoder.layer.8.attention.self.key.bias', 'encoder.layer.9.output.LayerNorm.bias', 'encoder.layer.7.attention.output.LayerNorm.bias', 'encoder.layer.1.attention.self.query.weight', 'encoder.layer.8.attention.self.query.weight', 'encoder.layer.9.attention.self.value.bias', 'encoder.layer.10.intermediate.dense.weight', 'classifier.bias', 'encoder.layer.1.output.LayerNorm.bias', 'encoder.layer.3.attention.self.key.bias', 'encoder.layer.7.output.LayerNorm.weight', 'encoder.layer.5.intermediate.dense.weight', 'encoder.layer.9.intermediate.dense.weight', 'encoder.layer.11.output.dense.weight', 'encoder.layer.10.attention.self.value.bias', 'encoder.layer.9.attention.self.key.bias', 'encoder.layer.6.attention.output.LayerNorm.weight', 'encoder.layer.9.attention.self.query.bias', 'encoder.layer.6.intermediate.dense.weight', 'encoder.layer.9.attention.output.LayerNorm.bias', 'encoder.layer.4.attention.output.dense.weight', 'encoder.layer.9.intermediate.dense.bias', 'encoder.layer.2.intermediate.dense.bias', 'encoder.layer.6.output.dense.bias', 'encoder.layer.0.output.dense.bias', 'encoder.layer.10.output.dense.bias', 'encoder.layer.9.attention.self.key.weight', 'encoder.layer.7.attention.self.key.bias', 'encoder.layer.10.attention.output.dense.bias', 'encoder.layer.5.attention.output.LayerNorm.bias', 'encoder.layer.9.attention.self.query.weight', 'encoder.layer.3.intermediate.dense.bias', 'encoder.layer.7.output.dense.weight', 'encoder.layer.8.attention.self.value.weight', 'encoder.layer.3.output.dense.weight', 'encoder.layer.10.attention.self.query.bias', 'pooler.dense.weight', 'encoder.layer.2.output.LayerNorm.weight', 'encoder.layer.3.attention.self.query.weight', 'encoder.layer.9.output.dense.weight', 'embeddings.token_type_embeddings.weight', 'encoder.layer.10.attention.output.dense.weight', 'encoder.layer.1.attention.output.LayerNorm.bias', 'encoder.layer.10.attention.self.value.weight', 'encoder.layer.11.attention.self.key.bias', 'encoder.layer.8.output.dense.weight', 'encoder.layer.10.intermediate.dense.bias', 'encoder.layer.1.attention.self.key.bias', 'encoder.layer.5.attention.output.dense.bias', 'classifier.weight', 'encoder.layer.0.attention.self.key.weight', 'encoder.layer.5.output.dense.weight', 'encoder.layer.2.attention.output.dense.bias', 'encoder.layer.11.attention.self.query.bias', 'encoder.layer.0.attention.self.query.bias', 'encoder.layer.1.intermediate.dense.bias', 'encoder.layer.4.attention.self.value.bias', 'encoder.layer.11.intermediate.dense.weight', 'encoder.layer.3.output.LayerNorm.weight', 'encoder.layer.11.output.dense.bias', 'encoder.layer.11.attention.self.query.weight', 'encoder.layer.4.output.LayerNorm.weight', 'encoder.layer.1.attention.output.dense.bias', 'encoder.layer.10.attention.self.query.weight', 'encoder.layer.0.attention.self.value.bias', 'encoder.layer.7.attention.self.value.weight', 'encoder.layer.9.attention.output.dense.bias', 'encoder.layer.5.attention.self.query.weight', 'encoder.layer.8.attention.output.LayerNorm.bias', 'encoder.layer.0.attention.output.dense.bias', 'embeddings.word_embeddings.weight', 'encoder.layer.5.attention.self.value.bias', 'encoder.layer.3.attention.output.dense.weight', 'encoder.layer.7.attention.self.query.weight', 'encoder.layer.5.output.dense.bias', 'encoder.layer.2.attention.self.key.bias', 'encoder.layer.2.intermediate.dense.weight', 'encoder.layer.0.output.dense.weight', 'encoder.layer.5.attention.self.key.weight', 'encoder.layer.0.attention.self.query.weight', 'encoder.layer.0.intermediate.dense.bias', 'encoder.layer.8.attention.output.dense.weight', 'encoder.layer.6.attention.output.LayerNorm.bias', 'encoder.layer.5.attention.self.query.bias', 'encoder.layer.0.output.LayerNorm.weight', 'encoder.layer.3.attention.self.value.weight', 'encoder.layer.1.output.dense.weight', 'encoder.layer.8.attention.self.query.bias', 'encoder.layer.9.attention.output.dense.weight', 'encoder.layer.4.intermediate.dense.weight', 'encoder.layer.7.attention.output.dense.bias', 'encoder.layer.11.attention.self.key.weight', 'encoder.layer.11.attention.output.dense.weight', 'encoder.layer.3.attention.output.dense.bias', 'embeddings.LayerNorm.bias', 'encoder.layer.8.output.LayerNorm.weight', 'encoder.layer.9.output.LayerNorm.weight', 'encoder.layer.0.attention.self.key.bias', 'encoder.layer.4.attention.self.query.bias', 'encoder.layer.2.attention.self.value.bias', 'encoder.layer.6.attention.output.dense.weight', 'encoder.layer.11.attention.output.LayerNorm.bias', 'encoder.layer.7.intermediate.dense.bias', 'encoder.layer.2.attention.self.query.bias', 'encoder.layer.0.attention.output.dense.weight', 'encoder.layer.7.attention.self.value.bias', 'encoder.layer.0.intermediate.dense.weight', 'encoder.layer.8.output.dense.bias', 'pooler.dense.bias', 'encoder.layer.4.attention.self.key.bias', 'encoder.layer.4.output.LayerNorm.bias', 'encoder.layer.1.attention.self.key.weight', 'encoder.layer.5.output.LayerNorm.bias', 'encoder.layer.11.attention.self.value.bias', 'encoder.layer.10.output.LayerNorm.bias', 'encoder.layer.8.attention.self.key.weight', 'encoder.layer.7.attention.self.query.bias', 'encoder.layer.4.intermediate.dense.bias', 'encoder.layer.6.attention.self.value.bias', 'encoder.layer.4.attention.output.LayerNorm.bias', 'encoder.layer.7.output.LayerNorm.bias', 'encoder.layer.6.attention.self.query.bias', 'encoder.layer.4.output.dense.bias', 'encoder.layer.2.attention.output.dense.weight', 'encoder.layer.6.attention.self.query.weight', 'encoder.layer.7.attention.output.dense.weight', 'encoder.layer.8.intermediate.dense.bias', 'encoder.layer.1.attention.output.dense.weight', 'encoder.layer.2.attention.self.query.weight', 'encoder.layer.8.attention.self.value.bias', 'encoder.layer.2.output.dense.weight', 'encoder.layer.5.attention.output.dense.weight', 'encoder.layer.4.attention.self.value.weight', 'embeddings.LayerNorm.weight', 'encoder.layer.10.output.LayerNorm.weight', 'encoder.layer.2.output.LayerNorm.bias', 'embeddings.position_embeddings.weight', 'encoder.layer.2.output.dense.bias', 'encoder.layer.5.intermediate.dense.bias', 'encoder.layer.10.attention.self.key.bias', 'encoder.layer.11.output.LayerNorm.bias', 'encoder.layer.3.attention.self.key.weight', 'encoder.layer.0.output.LayerNorm.bias', 'encoder.layer.11.attention.output.dense.bias', 'encoder.layer.11.attention.output.LayerNorm.weight', 'encoder.layer.8.output.LayerNorm.bias', 'encoder.layer.4.attention.self.key.weight', 'encoder.layer.3.attention.output.LayerNorm.weight', 'encoder.layer.3.intermediate.dense.weight', 'encoder.layer.11.output.LayerNorm.weight', 'encoder.layer.8.intermediate.dense.weight', 'encoder.layer.5.attention.self.key.bias', 'encoder.layer.2.attention.output.LayerNorm.bias', 'encoder.layer.5.output.LayerNorm.weight', 'encoder.layer.0.attention.output.LayerNorm.bias', 'encoder.layer.6.intermediate.dense.bias', 'encoder.layer.5.attention.self.value.weight', 'encoder.layer.10.attention.self.key.weight', 'encoder.layer.2.attention.output.LayerNorm.weight', 'encoder.layer.10.output.dense.weight', 'encoder.layer.4.attention.output.LayerNorm.weight', 'encoder.layer.3.attention.self.value.bias', 'encoder.layer.1.output.LayerNorm.weight', 'encoder.layer.6.attention.self.key.weight', 'encoder.layer.6.attention.output.dense.bias', 'encoder.layer.8.attention.output.LayerNorm.weight', 'encoder.layer.0.attention.output.LayerNorm.weight', 'encoder.layer.6.attention.self.key.bias', 'encoder.layer.7.output.dense.bias', 'encoder.layer.10.attention.output.LayerNorm.weight', 'encoder.layer.5.attention.output.LayerNorm.weight', 'encoder.layer.2.attention.self.key.weight', 'encoder.layer.9.attention.self.value.weight', 'encoder.layer.3.output.dense.bias', 'encoder.layer.6.attention.self.value.weight', 'encoder.layer.6.output.dense.weight', 'encoder.layer.3.attention.self.query.bias', 'encoder.layer.6.output.LayerNorm.bias', 'encoder.layer.11.attention.self.value.weight', 'encoder.layer.1.attention.self.value.weight', 'encoder.layer.7.intermediate.dense.weight', 'encoder.layer.8.attention.output.dense.bias', 'encoder.layer.9.output.dense.bias', 'encoder.layer.1.attention.output.LayerNorm.weight', 'encoder.layer.1.attention.self.value.bias', 'encoder.layer.7.attention.self.key.weight', 'encoder.layer.9.attention.output.LayerNorm.weight', 'encoder.layer.1.output.dense.bias', 'encoder.layer.4.attention.self.query.weight', 'encoder.layer.3.output.LayerNorm.bias', 'encoder.layer.6.output.LayerNorm.weight', 'encoder.layer.10.attention.output.LayerNorm.bias', 'encoder.layer.1.attention.self.query.bias', 'encoder.layer.3.attention.output.LayerNorm.bias', 'encoder.layer.4.output.dense.weight']\n",
            "You should probably TRAIN this model on a down-stream task to be able to use it for predictions and inference.\n",
            "/usr/local/lib/python3.10/dist-packages/transformers/optimization.py:411: FutureWarning: This implementation of AdamW is deprecated and will be removed in a future version. Use the PyTorch implementation torch.optim.AdamW instead, or set `no_deprecation_warning=True` to disable this warning\n",
            "  warnings.warn(\n"
          ]
        }
      ],
      "source": [
        "from torch.cuda import is_available\n",
        "import tensorflow as tf\n",
        "device_name = tf.test.gpu_device_name()\n",
        "\n",
        "import torch\n",
        "print(torch.cuda.is_available())\n",
        "\n",
        "\n",
        "device = torch.device('cuda') if torch.cuda.is_available() else torch.device('cpu')\n",
        "device\n",
        "\n",
        "model = BertForSequenceClassification.from_pretrained(model_name, num_labels=2)\n",
        "model.cuda()\n",
        "optimizer = AdamW(model.parameters(),lr=2e-5,eps=1e-8)\n",
        "\n",
        "num_epochs = 8\n",
        "total_steps = len(train_loader) * num_epochs\n",
        "\n",
        "scheduler = get_linear_schedule_with_warmup(optimizer, num_warmup_steps = 0, num_training_steps = total_steps)\n",
        "\n",
        "\n",
        "def compute_accuracy(preds,labels):\n",
        "  preds = preds.detach().cpu().numpy()\n",
        "  labels = labels.detach().cpu().numpy()\n",
        "  preds = np.argmax(preds,axis=1).flatten()\n",
        "  labels = labels.flatten()\n",
        "  return np.sum(preds == labels)/len(labels)\n",
        "\n",
        "\n",
        "def train():\n",
        "  total_loss = 0.0\n",
        "  total_acc = 0.0\n",
        "\n",
        "  model.train()\n",
        "\n",
        "  num_steps = 0\n",
        "\n",
        "  for step,batch in enumerate(train_loader):\n",
        "\n",
        "    if step % 50 == 0 and not step == 0:\n",
        "      print('  Batch {:>5,}  of  {:>5,}.'.format(step, len(train_loader)))\n",
        "\n",
        "    input_ids = batch[0].to(device)\n",
        "    attention_mask = batch[1].to(device)\n",
        "    labels = batch[2].to(device)\n",
        "\n",
        "    model.zero_grad()\n",
        "\n",
        "    outputs = model(input_ids,attention_mask = attention_mask,labels = labels.long())\n",
        "\n",
        "    loss = outputs.loss\n",
        "    logits = outputs.logits\n",
        "\n",
        "    total_loss = total_loss + loss.item()\n",
        "    total_acc = total_acc + compute_accuracy(logits,labels)\n",
        "\n",
        "    loss.backward()\n",
        "\n",
        "    torch.nn.utils.clip_grad_norm_(model.parameters(), 1.0)\n",
        "\n",
        "    optimizer.step()\n",
        "    scheduler.step()\n",
        "\n",
        "  avg_loss = total_loss/len(train_loader)\n",
        "  avg_acc = total_acc/len(train_loader)\n",
        "\n",
        "  return avg_loss,avg_acc\n",
        "\n",
        "def evaluate():\n",
        "  total_loss = 0.0\n",
        "  total_acc = 0.0\n",
        "\n",
        "  model.train()\n",
        "\n",
        "  true_labels = []\n",
        "  predictions = []\n",
        "\n",
        "  for step,batch in enumerate(validation_loader):\n",
        "\n",
        "    if step % 50 == 0 and not step == 0:\n",
        "      print('  Batch {:>5,}  of  {:>5,}.'.format(step, len(validation_loader)))\n",
        "\n",
        "    input_ids = batch[0].to(device)\n",
        "    attention_mask = batch[1].to(device)\n",
        "    labels = batch[2].to(device)\n",
        "\n",
        "    with torch.no_grad():\n",
        "      outputs = model(input_ids,attention_mask = attention_mask,labels = labels.long())\n",
        "\n",
        "    loss = outputs.loss\n",
        "    logits = outputs.logits\n",
        "\n",
        "    total_loss = total_loss + loss.item()\n",
        "    total_acc = total_acc + compute_accuracy(logits,labels)\n",
        "\n",
        "    logits = logits.detach().cpu().numpy()\n",
        "    logits = np.argmax(logits,axis=1).flatten()\n",
        "    labels = labels.detach().cpu().numpy().flatten()\n",
        "\n",
        "    true_labels.extend(labels)\n",
        "    predictions.extend(logits)\n",
        "\n",
        "  avg_loss = total_loss/len(validation_loader)\n",
        "  avg_acc = total_acc/len(validation_loader)\n",
        "  macro_f1_score =  classification_report(true_labels, predictions,output_dict=True)['macro avg']['f1-score']\n",
        "\n",
        "  return avg_loss,avg_acc,macro_f1_score"
      ]
    },
    {
      "cell_type": "code",
      "execution_count": null,
      "metadata": {
        "colab": {
          "base_uri": "https://localhost:8080/"
        },
        "id": "2ibwFvl3FgRS",
        "outputId": "c140735b-c6c5-427f-c9da-c0b0c87c63ec"
      },
      "outputs": [
        {
          "output_type": "stream",
          "name": "stdout",
          "text": [
            "\n",
            " Epoch 1 / 8\n",
            "  Batch    50  of     97.\n",
            "\n",
            "Training Accuracy: 0.630 | Training Loss: 0.663 | Validation Accuracy: 0.659 | Validation Loss: 0.611 | F1 Score: 0.449 \n",
            "\n",
            " Epoch 2 / 8\n",
            "  Batch    50  of     97.\n",
            "\n",
            "Training Accuracy: 0.677 | Training Loss: 0.600 | Validation Accuracy: 0.667 | Validation Loss: 0.665 | F1 Score: 0.441 \n",
            "\n",
            " Epoch 3 / 8\n",
            "  Batch    50  of     97.\n",
            "\n",
            "Training Accuracy: 0.736 | Training Loss: 0.555 | Validation Accuracy: 0.745 | Validation Loss: 0.536 | F1 Score: 0.669 \n",
            "\n",
            " Epoch 4 / 8\n",
            "  Batch    50  of     97.\n",
            "\n",
            "Training Accuracy: 0.771 | Training Loss: 0.495 | Validation Accuracy: 0.773 | Validation Loss: 0.508 | F1 Score: 0.752 \n",
            "\n",
            " Epoch 5 / 8\n",
            "  Batch    50  of     97.\n",
            "\n",
            "Training Accuracy: 0.770 | Training Loss: 0.492 | Validation Accuracy: 0.622 | Validation Loss: 0.680 | F1 Score: 0.622 \n",
            "\n",
            " Epoch 6 / 8\n",
            "  Batch    50  of     97.\n",
            "\n",
            "Training Accuracy: 0.787 | Training Loss: 0.459 | Validation Accuracy: 0.729 | Validation Loss: 0.541 | F1 Score: 0.719 \n",
            "\n",
            " Epoch 7 / 8\n",
            "  Batch    50  of     97.\n",
            "\n",
            "Training Accuracy: 0.805 | Training Loss: 0.428 | Validation Accuracy: 0.763 | Validation Loss: 0.513 | F1 Score: 0.727 \n",
            "\n",
            " Epoch 8 / 8\n",
            "  Batch    50  of     97.\n",
            "\n",
            "Training Accuracy: 0.827 | Training Loss: 0.403 | Validation Accuracy: 0.768 | Validation Loss: 0.515 | F1 Score: 0.734 \n"
          ]
        }
      ],
      "source": [
        "import random\n",
        "seed_val = 42\n",
        "\n",
        "random.seed(seed_val)\n",
        "np.random.seed(seed_val)\n",
        "torch.manual_seed(seed_val)\n",
        "torch.cuda.manual_seed_all(seed_val)\n",
        "\n",
        "train_losses = []\n",
        "train_accs = []\n",
        "valid_losses = []\n",
        "valid_accs = []\n",
        "\n",
        "best_f1 = 0.0\n",
        "\n",
        "for epoch in range(num_epochs):\n",
        "  print('\\n Epoch {:} / {:}'.format(epoch + 1, num_epochs))\n",
        "\n",
        "  train_loss, train_acc = train()\n",
        "  valid_loss, valid_acc,f1_score = evaluate()\n",
        "\n",
        "  train_losses.append(train_loss)\n",
        "  train_accs.append(train_acc)\n",
        "  valid_losses.append(valid_loss)\n",
        "  valid_accs.append(valid_acc)\n",
        "\n",
        "  if f1_score > best_f1:\n",
        "      best_f1 = f1_score\n",
        "      torch.save(model,'/content/drive/MyDrive/final_english_model_bert_8SeptAEM1.00Spt')\n",
        "\n",
        "\n",
        "  print(f'\\nTraining Accuracy: {train_acc:.3f} | Training Loss: {train_loss:.3f} | Validation Accuracy: {valid_acc:.3f} | Validation Loss: {valid_loss:.3f} | F1 Score: {f1_score:.3f} ')\n"
      ]
    },
    {
      "cell_type": "markdown",
      "metadata": {
        "id": "GajmrtnpE67t"
      },
      "source": [
        "Training/Validation Plots"
      ]
    },
    {
      "cell_type": "code",
      "execution_count": null,
      "metadata": {
        "colab": {
          "base_uri": "https://localhost:8080/",
          "height": 489
        },
        "id": "TpiZ7gNWDaBM",
        "outputId": "51bc381f-422c-4171-c636-73ab0ffcaf4d"
      },
      "outputs": [
        {
          "output_type": "execute_result",
          "data": {
            "text/plain": [
              "<matplotlib.legend.Legend at 0x7edcdcd86980>"
            ]
          },
          "metadata": {},
          "execution_count": 17
        },
        {
          "output_type": "display_data",
          "data": {
            "text/plain": [
              "<Figure size 640x480 with 1 Axes>"
            ],
            "image/png": "[encoded data removed]"
          },
          "metadata": {}
        }
      ],
      "source": [
        "plt.plot(train_accs)\n",
        "plt.plot(valid_accs)\n",
        "plt.title('Model accuracy')\n",
        "plt.ylabel('Accuracy')\n",
        "plt.xlabel('Epoch')\n",
        "plt.legend(['train', 'val'], loc='upper left')\n",
        "\n",
        "\n",
        "plt.plot(train_losses)\n",
        "plt.plot(valid_losses)\n",
        "plt.title('Model loss')\n",
        "plt.ylabel('Loss')\n",
        "plt.xlabel('Epoch')\n",
        "plt.legend(['train', 'val'], loc='upper left')"
      ]
    },
    {
      "cell_type": "markdown",
      "metadata": {
        "id": "NhdJ-N-_D7on"
      },
      "source": [
        "Evals"
      ]
    },
    {
      "cell_type": "code",
      "execution_count": null,
      "metadata": {
        "colab": {
          "base_uri": "https://localhost:8080/"
        },
        "id": "rwr_tT7lD7bK",
        "outputId": "1774cb6e-7735-4298-c93e-3e43e479ee38"
      },
      "outputs": [
        {
          "output_type": "stream",
          "name": "stderr",
          "text": [
            "<ipython-input-13-b7c1d0ff789e>:20: UserWarning: To copy construct from a tensor, it is recommended to use sourceTensor.clone().detach() or sourceTensor.clone().detach().requires_grad_(True), rather than torch.tensor(sourceTensor).\n",
            "  input_ids = torch.tensor(input_ids)\n",
            "<ipython-input-13-b7c1d0ff789e>:21: UserWarning: To copy construct from a tensor, it is recommended to use sourceTensor.clone().detach() or sourceTensor.clone().detach().requires_grad_(True), rather than torch.tensor(sourceTensor).\n",
            "  attention_mask = torch.tensor(attention_mask)\n"
          ]
        },
        {
          "output_type": "stream",
          "name": "stdout",
          "text": [
            "\n",
            "Test Accuracy: 0.644 | Test Loss: 0.644 | F1 Score: 0.671 \n"
          ]
        }
      ],
      "source": [
        "\n",
        "model = torch.load('/content/drive/MyDrive/final_english_model_bert_8SeptAEM1.00Spt')\n",
        "model = model.to(device)\n",
        "\n",
        "\n",
        "test_dataset = generate_dataset(X_test,y_test,tokenizer)\n",
        "test_loader = get_data_loader(test_dataset,SequentialSampler)\n",
        "\n",
        "def test_evaluate():\n",
        "  total_loss = 0.0\n",
        "  total_acc = 0.0\n",
        "\n",
        "  model.train()\n",
        "\n",
        "  true_labels = []\n",
        "  predictions = []\n",
        "\n",
        "  for step,batch in enumerate(test_loader):\n",
        "\n",
        "    if step % 50 == 0 and not step == 0:\n",
        "      print('  Batch {:>5,}  of  {:>5,}.'.format(step, len(test_loader)))\n",
        "\n",
        "    input_ids = batch[0].to(device)\n",
        "    attention_mask = batch[1].to(device)\n",
        "    labels = batch[2].to(device)\n",
        "\n",
        "    with torch.no_grad():\n",
        "      outputs = model(input_ids,attention_mask = attention_mask,labels = labels.long())\n",
        "\n",
        "    loss = outputs.loss\n",
        "    logits = outputs.logits\n",
        "\n",
        "    total_loss = total_loss + loss.item()\n",
        "    total_acc = total_acc + compute_accuracy(logits,labels)\n",
        "\n",
        "    logits = logits.detach().cpu().numpy()\n",
        "    logits = np.argmax(logits,axis=1).flatten()\n",
        "    labels = labels.detach().cpu().numpy().flatten()\n",
        "\n",
        "    true_labels.extend(labels)\n",
        "    predictions.extend(logits)\n",
        "\n",
        "  avg_loss = total_loss/len(test_loader)\n",
        "  avg_acc = total_acc/len(test_loader)\n",
        "  macro_f1_score =  classification_report(true_labels, predictions,output_dict=True)['macro avg']['f1-score']\n",
        "\n",
        "  return avg_loss,avg_acc,macro_f1_score\n",
        "\n",
        "test_loss,test_acc,f1_score = test_evaluate()\n",
        "print(f'\\nTest Accuracy: {test_acc:.3f} | Test Loss: {test_loss:.3f} | F1 Score: {f1_score:.3f} ')\n"
      ]
    },
    {
      "cell_type": "code",
      "execution_count": null,
      "metadata": {
        "id": "2R7wuGXXGEin"
      },
      "outputs": [],
      "source": []
    }
  ],
  "metadata": {
    "accelerator": "GPU",
    "colab": {
      "provenance": []
    },
    "kernelspec": {
      "display_name": "Python 3",
      "name": "python3"
    },
    "language_info": {
      "name": "python"
    }
  },
  "nbformat": 4,
  "nbformat_minor": 0
}